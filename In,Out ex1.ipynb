{
 "cells": [
  {
   "cell_type": "code",
   "execution_count": 4,
   "id": "45a142bb",
   "metadata": {},
   "outputs": [
    {
     "name": "stdout",
     "output_type": "stream",
     "text": [
      "Nhập một bán kính: 1\n",
      "Chu vi đường tròn có bán kính 1 là 6.28318530718\n",
      "Diện tích đường tròn có bán kính 1 là 3.14159265359\n"
     ]
    }
   ],
   "source": [
    "#Tính chi vi, diện tích đường tròn\n",
    "import math\n",
    "pi = 3.14159265359\n",
    "r = int(input('Nhập một bán kính: '))\n",
    "print(f'Chu vi đường tròn có bán kính {r} là {2*pi*r}')\n",
    "print(f'Diện tích đường tròn có bán kính {r} là {pi*r*r}')"
   ]
  },
  {
   "cell_type": "code",
   "execution_count": 2,
   "id": "069647d8",
   "metadata": {},
   "outputs": [
    {
     "name": "stdout",
     "output_type": "stream",
     "text": [
      "Nhập chiều dài hình chữ nhật: 2\n",
      "Nhập chiều rộng hình chữ nhật: 4\n",
      "Chu vi của hình chữ nhật đó là 12.0\n",
      "Diện tích của hình chữ nhật đó là 8.0\n"
     ]
    }
   ],
   "source": [
    "#Tính cv dt hcn\n",
    "\n",
    "d = float(input(\"Nhập chiều dài hình chữ nhật: \"))\n",
    "r = float(input(\"Nhập chiều rộng hình chữ nhật: \"))\n",
    "print(f\"Chu vi của hình chữ nhật đó là {2*(d+r)}\") \n",
    "print(f\"Diện tích của hình chữ nhật đó là {d*r}\")"
   ]
  },
  {
   "cell_type": "code",
   "execution_count": 3,
   "id": "044a6309",
   "metadata": {},
   "outputs": [
    {
     "name": "stdout",
     "output_type": "stream",
     "text": [
      "Nhập tiền USD cần đổi: 2\n",
      "Nhập tỉ giá USD/VND: 23000\n",
      "2 USD = 46000 VNĐ\n"
     ]
    }
   ],
   "source": [
    "#ứng dụng chuyển đổi tiền tệ\n",
    "m = int(input('Nhập tiền USD cần đổi: '))\n",
    "n = int(input('Nhập tỉ giá USD/VND: '))\n",
    "print(f'{m} USD = {m*n} VNĐ')"
   ]
  },
  {
   "cell_type": "code",
   "execution_count": null,
   "id": "6b04b22d",
   "metadata": {},
   "outputs": [],
   "source": []
  }
 ],
 "metadata": {
  "kernelspec": {
   "display_name": "Python 3 (ipykernel)",
   "language": "python",
   "name": "python3"
  },
  "language_info": {
   "codemirror_mode": {
    "name": "ipython",
    "version": 3
   },
   "file_extension": ".py",
   "mimetype": "text/x-python",
   "name": "python",
   "nbconvert_exporter": "python",
   "pygments_lexer": "ipython3",
   "version": "3.9.13"
  }
 },
 "nbformat": 4,
 "nbformat_minor": 5
}
